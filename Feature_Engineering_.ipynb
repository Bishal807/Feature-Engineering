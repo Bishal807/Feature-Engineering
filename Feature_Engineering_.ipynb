{
  "nbformat": 4,
  "nbformat_minor": 0,
  "metadata": {
    "colab": {
      "provenance": []
    },
    "kernelspec": {
      "name": "python3",
      "display_name": "Python 3"
    },
    "language_info": {
      "name": "python"
    }
  },
  "cells": [
    {
      "cell_type": "markdown",
      "source": [
        "1. What is a parameter?\n",
        "- In Machine Learning, a parameter is a variable that the model learns from the training data. Examples include weights and biases in a neural network.\n",
        "\n",
        "2. What is correlation?\n",
        "- Correlation measures the relationship between two variables. It ranges from -1 to 1. A positive correlation means both variables move in the same direction, while a negative correlation means they move in opposite directions.\n",
        "\n",
        "3. What does negative correlation mean?\n",
        "- Negative correlation means that as one variable increases, the other decreases. Example: More hours spent studying correlates with fewer errors in an exam.\n",
        "\n",
        "4. Define Machine Learning. What are the main components in Machine Learning?\n",
        "- Machine Learning is a branch of AI that enables computers to learn from data without being explicitly programmed.\n",
        "\n",
        "Main components:\n",
        "\n",
        "- Data\n",
        "\n",
        "- Model\n",
        "\n",
        "- Algorithm\n",
        "\n",
        "- Loss function\n",
        "\n",
        "- Optimization method\n",
        "\n",
        "- Evaluation metrics\n",
        "\n",
        "5. How does loss value help in determining whether the model is good or not?\n",
        "- A lower loss value indicates that the model’s predictions are closer to the actual values, meaning better performance.\n",
        "\n",
        "6. What are continuous and categorical variables?\n",
        "- Continuous variables: Numeric values with infinite possibilities (e.g., height, temperature).\n",
        "\n",
        "- Categorical variables: Discrete groups or labels (e.g., colors, countries).\n",
        "\n",
        "7. How do we handle categorical variables in Machine Learning? What are the common techniques?\n",
        "- Techniques:\n",
        "\n",
        "- One-hot encoding\n",
        "\n",
        "- Label encoding\n",
        "\n",
        "- Ordinal encoding\n",
        "\n",
        "8. What do you mean by training and testing a dataset?\n",
        "- Training dataset: Used to train the model.\n",
        "\n",
        "- Testing dataset: Used to evaluate the model’s performance.\n",
        "\n",
        "9. What is sklearn.preprocessing?\n",
        "- A module in scikit-learn used for data preprocessing (e.g., scaling, encoding, normalization).\n",
        "\n",
        "10. What is a Test set?\n",
        "- A subset of data used to evaluate a trained model’s performance."
      ],
      "metadata": {
        "id": "uXjcOCdvTGhS"
      }
    },
    {
      "cell_type": "code",
      "source": [
        "11.How do we split data for model fitting (training and testing) in Python?\n",
        "from sklearn.model_selection import train_test_split\n",
        "X_train, X_test, y_train, y_test = train_test_split(X, y, test_size=0.2, random_state=42)\n"
      ],
      "metadata": {
        "id": "b7YCVBKqUfDK"
      },
      "execution_count": null,
      "outputs": []
    },
    {
      "cell_type": "markdown",
      "source": [
        "12. How do you approach a Machine Learning problem?\n",
        "- Steps:\n",
        "\n",
        "1. Define the problem\n",
        "\n",
        "2. Collect and preprocess data\n",
        "\n",
        "3. Perform Exploratory Data Analysis (EDA)\n",
        "\n",
        "4. Choose a model\n",
        "\n",
        "5. Train and optimize the model\n",
        "\n",
        "6. Evaluate and fine-tune the model\n",
        "\n",
        "13. Why do we have to perform EDA before fitting a model to the data?\n",
        "- Helps understand data distributions, identify missing values, detect outliers, and select appropriate features.\n",
        "\n",
        "14. What is correlation?\n",
        " ...<Q-2>...\n",
        "\n",
        "15. What does negative correlation mean?\n",
        "..Q2.."
      ],
      "metadata": {
        "id": "f8WbnQxtUoeL"
      }
    },
    {
      "cell_type": "code",
      "source": [
        "#16. How can you find correlation between variables in Python?\n",
        "import pandas as pd\n",
        "correlation_matrix = df.corr()\n",
        "print(correlation_matrix)\n"
      ],
      "metadata": {
        "colab": {
          "base_uri": "https://localhost:8080/",
          "height": 193
        },
        "collapsed": true,
        "id": "tvsHjhpGVfY7",
        "outputId": "4266c2e8-5edd-42a9-de2e-621423dd1e48"
      },
      "execution_count": 3,
      "outputs": [
        {
          "output_type": "error",
          "ename": "NameError",
          "evalue": "name 'df' is not defined",
          "traceback": [
            "\u001b[0;31m---------------------------------------------------------------------------\u001b[0m",
            "\u001b[0;31mNameError\u001b[0m                                 Traceback (most recent call last)",
            "\u001b[0;32m<ipython-input-3-4456fab08197>\u001b[0m in \u001b[0;36m<cell line: 0>\u001b[0;34m()\u001b[0m\n\u001b[1;32m      1\u001b[0m \u001b[0;31m#16. How can you find correlation between variables in Python?\u001b[0m\u001b[0;34m\u001b[0m\u001b[0;34m\u001b[0m\u001b[0m\n\u001b[1;32m      2\u001b[0m \u001b[0;32mimport\u001b[0m \u001b[0mpandas\u001b[0m \u001b[0;32mas\u001b[0m \u001b[0mpd\u001b[0m\u001b[0;34m\u001b[0m\u001b[0;34m\u001b[0m\u001b[0m\n\u001b[0;32m----> 3\u001b[0;31m \u001b[0mcorrelation_matrix\u001b[0m \u001b[0;34m=\u001b[0m \u001b[0mdf\u001b[0m\u001b[0;34m.\u001b[0m\u001b[0mcorr\u001b[0m\u001b[0;34m(\u001b[0m\u001b[0mpw\u001b[0m\u001b[0;34m)\u001b[0m\u001b[0;34m\u001b[0m\u001b[0;34m\u001b[0m\u001b[0m\n\u001b[0m\u001b[1;32m      4\u001b[0m \u001b[0mprint\u001b[0m\u001b[0;34m(\u001b[0m\u001b[0mcorrelation_matrix\u001b[0m\u001b[0;34m)\u001b[0m\u001b[0;34m\u001b[0m\u001b[0;34m\u001b[0m\u001b[0m\n",
            "\u001b[0;31mNameError\u001b[0m: name 'df' is not defined"
          ]
        }
      ]
    },
    {
      "cell_type": "markdown",
      "source": [
        "17. What is causation? Explain the difference between correlation and causation with an example.\n",
        "- Causation: One variable directly affects another.\n",
        "\n",
        "- Correlation: Two variables move together but might not have a cause-effect relationship.\n",
        "\n",
        "- Example: Ice cream sales and drowning deaths are correlated, but one doesn’t cause the other. The real cause is hot weather.\n",
        "\n",
        "18. What is an Optimizer? What are different types of optimizers? Explain each with an example.\n",
        "- An optimizer minimizes the loss function during training.\n",
        "\n",
        "Types:\n",
        "\n",
        "- Gradient Descent: Updates weights using gradients.\n",
        "\n",
        "- Adam: Adaptive learning rate optimization.\n",
        "\n",
        "- RMSprop: Optimized for non-stationary objectives.\n",
        "\n",
        "19. What is sklearn.linear_model?\n",
        "- A module in scikit-learn for implementing linear models like Linear Regression and Logistic Regression.\n",
        "\n",
        "20. What does model.fit() do? What arguments must be given?\n",
        "- model.fit(X_train, y_train)\n",
        "Trains the model using training data.\n",
        "\n",
        "21. What does model.predict() do? What arguments must be given?\n",
        "\n",
        "- predictions = model.predict(X_test)\n",
        "Predicts outputs for test data.\n",
        "\n",
        "22. What is feature scaling? How does it help in Machine Learning?\n",
        "- Feature scaling normalizes numerical values to a standard range. Helps models like Gradient Descent converge faster.\n",
        "23. How do we perform scaling in Python?\n",
        "- from sklearn.preprocessing import StandardScaler\n",
        "scaler = StandardScaler()\n",
        "X_scaled = scaler.fit_transform(X)\n",
        "24. What is sklearn.preprocessing?\n",
        "question 9.\n",
        "25. How do we split data for model fitting (training and testing) in Python?\n",
        " question 11.\n",
        "\n",
        "26. Explain data encoding?\n",
        "- Converts categorical data into numerical form using techniques like One-Hot Encoding and Label Encoding."
      ],
      "metadata": {
        "id": "9oD-lTQJV7Nr"
      }
    },
    {
      "cell_type": "markdown",
      "source": [],
      "metadata": {
        "id": "h7vcK-tSVjz7"
      }
    }
  ]
}